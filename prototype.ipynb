{
 "cells": [
  {
   "cell_type": "markdown",
   "metadata": {},
   "source": [
    "# Prototyping and Testing"
   ]
  },
  {
   "cell_type": "code",
   "execution_count": 7,
   "metadata": {},
   "outputs": [
    {
     "name": "stdout",
     "output_type": "stream",
     "text": [
      "Default parallelism: 12\n",
      "Number of partitions: 2\n",
      "Partitioner: None\n",
      "Partitions structure: [[('Network 2', 'Loan Product 1', '2016', 'Mar', 1, 1122.0), ('Network 1', 'Loan Product 2', '2016', 'Mar', 1, 3098.0), ('Network 2', 'Loan Product 1', '2016', 'Apr', 1, 5671.0), ('Network 3', 'Loan Product 3', '2016', 'Apr', 1, 1928.0), ('Network 1', 'Loan Product 2', '2016', 'Apr', 1, 1801.0)], [('Network 3', 'Loan Product 2', '2016', 'Mar', 1, 2084.0), ('Network 2', 'Loan Product 3', '2016', 'Apr', 1, 1747.0)]]\n"
     ]
    }
   ],
   "source": [
    "import main\n",
    "from pyspark import SparkContext\n",
    "# intialize prerequisites\n",
    "sparkContext = SparkContext.getOrCreate()\n",
    "loan = LoanAnalytics()"
   ]
  },
  {
   "cell_type": "markdown",
   "metadata": {},
   "source": [
    "## Path to Files (input, 100,500,1000,100Million,  )"
   ]
  },
  {
   "cell_type": "code",
   "execution_count": 11,
   "metadata": {},
   "outputs": [],
   "source": [
    "\n",
    "inputCsv = \"./data/input.csv\"\n",
    "bigData = \"./data/100000000.csv\"\n",
    "csv100 = \"./data/100.csv\"\n",
    "csv1000 = \"./data/1000.csv\"\n"
   ]
  },
  {
   "cell_type": "markdown",
   "metadata": {},
   "source": [
    "## Try 8 Records and assess performance"
   ]
  },
  {
   "cell_type": "code",
   "execution_count": 74,
   "metadata": {},
   "outputs": [
    {
     "name": "stdout",
     "output_type": "stream",
     "text": [
      "CPU times: user 25 ms, sys: 4.94 ms, total: 29.9 ms\n",
      "Wall time: 202 ms\n"
     ]
    }
   ],
   "source": [
    "%%time\n",
    "# fetch csv as RDD\n",
    "csv = sparkContext.textFile(inputCsv)\n",
    "#  transform RDD using map reduce\n",
    "rdd = loan.rddMapReducer(csv)\n",
    "rdd.collect()"
   ]
  },
  {
   "cell_type": "code",
   "execution_count": 20,
   "metadata": {},
   "outputs": [
    {
     "name": "stdout",
     "output_type": "stream",
     "text": [
      "Default parallelism: 12\n",
      "Number of partitions: 2\n",
      "Partitioner: None\n",
      "Partitions structure: [[('Network 2', 'Loan Product 1', '2016', 'Mar', 1, 1122.0), ('Network 1', 'Loan Product 2', '2016', 'Mar', 1, 3098.0), ('Network 2', 'Loan Product 1', '2016', 'Apr', 1, 5671.0), ('Network 3', 'Loan Product 3', '2016', 'Apr', 1, 1928.0), ('Network 1', 'Loan Product 2', '2016', 'Apr', 1, 1801.0)], [('Network 3', 'Loan Product 2', '2016', 'Mar', 1, 2084.0), ('Network 2', 'Loan Product 3', '2016', 'Apr', 1, 1747.0)]]\n"
     ]
    }
   ],
   "source": [
    "## RDD Diagnostics\n",
    "loan.printRddDiagnostic(sparkContext, rdd)"
   ]
  },
  {
   "cell_type": "markdown",
   "metadata": {},
   "source": [
    "## Try 100 Records and assess performance"
   ]
  },
  {
   "cell_type": "code",
   "execution_count": 21,
   "metadata": {},
   "outputs": [
    {
     "name": "stdout",
     "output_type": "stream",
     "text": [
      "CPU times: user 30.8 ms, sys: 380 µs, total: 31.2 ms\n",
      "Wall time: 228 ms\n"
     ]
    }
   ],
   "source": [
    "%%time\n",
    "# fetch csv as RDD\n",
    "csv = sparkContext.textFile(csv100)\n",
    "#  transform RDD using map reduce\n",
    "rdd = loan.rddMapReducer(csv)\n",
    "rdd.collect()"
   ]
  },
  {
   "cell_type": "markdown",
   "metadata": {},
   "source": [
    "## Try 1000 Records and assess performance"
   ]
  },
  {
   "cell_type": "code",
   "execution_count": 41,
   "metadata": {},
   "outputs": [
    {
     "name": "stdout",
     "output_type": "stream",
     "text": [
      "CPU times: user 33.7 ms, sys: 0 ns, total: 33.7 ms\n",
      "Wall time: 185 ms\n"
     ]
    }
   ],
   "source": [
    "%%time\n",
    "# fetch csv as RDD\n",
    "csv = sparkContext.textFile(csv1000)\n",
    "#  transform RDD using map reduce\n",
    "rdd = loan.rddMapReducer(csv)\n",
    "rdd.collect()"
   ]
  },
  {
   "cell_type": "markdown",
   "metadata": {},
   "source": [
    "## Try 100 million Records and assess performance"
   ]
  },
  {
   "cell_type": "code",
   "execution_count": 88,
   "metadata": {},
   "outputs": [
    {
     "name": "stdout",
     "output_type": "stream",
     "text": [
      "CPU times: user 19.7 ms, sys: 13 ms, total: 32.8 ms\n",
      "Wall time: 3.05 s\n"
     ]
    }
   ],
   "source": [
    "%%time\n",
    "# fetch csv as RDD\n",
    "csv = sparkContext.textFile(bigData)\n",
    "#  transform RDD using map reduce\n",
    "rdd = loan.rddMapReducer(csv)\n",
    "rdd.collect()"
   ]
  },
  {
   "cell_type": "markdown",
   "metadata": {},
   "source": [
    "## Check For Accuracy"
   ]
  },
  {
   "cell_type": "code",
   "execution_count": 89,
   "metadata": {},
   "outputs": [
    {
     "data": {
      "text/plain": [
       "[('Network 2', 'Grant 4', '2020', 'Jul', 19040, 171798491.2000144),\n",
       " ('Network 4', 'Grant 6', '1818', 'Sep', 19040, 179674387.19999483),\n",
       " ('Network 1', 'Grant 2', '1818', 'Sep', 19040, 141259092.80000502),\n",
       " ('Network 8', 'Grant 3', '2020', 'Jul', 19040, 96580971.20000798),\n",
       " ('Network 2', 'Grant 5', '1919', 'Dec', 19040, 141196641.59998614),\n",
       " ('Network 6', 'Grant 2', '1818', 'Nov', 19040, 102830470.40001263),\n",
       " ('Network 7', 'Grant 7', '1818', 'Dec', 19040, 110547953.60000369),\n",
       " ('Network 9', 'Grant 1', '1919', 'May', 19040, 148681075.20001212),\n",
       " ('Network 2', 'Grant 4', '1919', 'Mar', 19040, 115368120.0),\n",
       " ('Network 8', 'Grant 4', '1919', 'Jul', 19040, 186896068.79998493),\n",
       " ('Network 6', 'Grant 9', '1818', 'Nov', 19040, 178714961.59998548),\n",
       " ('Network 4', 'Grant 6', '2020', 'Jun', 19040, 142280779.199987),\n",
       " ('Network 4', 'Grant 3', '1919', 'Oct', 19040, 110439615.99998686),\n",
       " ('Network 5', 'Grant 5', '1919', 'Aug', 19040, 135185904.00001594),\n",
       " ('Network 2', 'Grant 3', '2020', 'Feb', 19040, 153339591.9999871),\n",
       " ('Network 7', 'Grant 9', '1919', 'May', 19040, 103798464.00001219),\n",
       " ('Network 2', 'Grant 9', '1919', 'May', 19040, 124295024.00001484),\n",
       " ('Network 4', 'Grant 4', '1919', 'Jun', 19040, 120149635.20000285),\n",
       " ('Network 9', 'Grant 7', '1919', 'Dec', 19040, 149230188.79998684),\n",
       " ('Network 1', 'Grant 6', '2020', 'Mar', 19040, 170882667.19999486),\n",
       " ('Network 4', 'Grant 7', '1919', 'Jul', 19040, 100101847.99999088),\n",
       " ('Network 4', 'Grant 3', '1919', 'Sep', 19040, 177660145.60000932),\n",
       " ('Network 2', 'Grant 8', '2020', 'Feb', 19040, 157916046.39997697),\n",
       " ('Network 1', 'Grant 3', '1919', 'Oct', 19040, 147713081.599986),\n",
       " ('Network 2', 'Grant 7', '1919', 'Sep', 19040, 134268366.39998493),\n",
       " ('Network 2', 'Grant 9', '1919', 'Aug', 19040, 135097558.40001372),\n",
       " ('Network 2', 'Grant 9', '1919', 'Jan', 19040, 144410022.400006),\n",
       " ('Network 6', 'Grant 1', '2020', 'Jun', 19040, 118158812.80000493),\n",
       " ('Network 6', 'Grant 4', '2020', 'Apr', 19040, 155977012.8000051),\n",
       " ('Network 9', 'Grant 9', '1919', 'Oct', 19040, 111429886.39999579),\n",
       " ('Network 7', 'Grant 7', '1919', 'Aug', 19040, 139211340.80001193),\n",
       " ('Network 5', 'Grant 2', '2020', 'Mar', 19040, 131247289.59999871),\n",
       " ('Network 1', 'Grant 8', '1919', 'May', 19040, 169162212.80000514),\n",
       " ('Network 9', 'Grant 4', '1919', 'Jan', 19040, 128202793.60001257),\n",
       " ('Network 4', 'Grant 1', '1919', 'Feb', 19040, 176639030.39999074),\n",
       " ('Network 8', 'Grant 3', '1818', 'Sep', 19040, 97560198.40001246),\n",
       " ('Network 2', 'Grant 7', '2020', 'Jun', 19040, 159496937.5999903),\n",
       " ('Network 4', 'Grant 2', '1818', 'Aug', 19040, 160381916.80002296),\n",
       " ('Network 9', 'Grant 6', '1818', 'Nov', 19040, 170019774.39999074),\n",
       " ('Network 1', 'Grant 2', '1919', 'Mar', 19040, 123894803.19998032),\n",
       " ('Network 9', 'Grant 3', '1818', 'Oct', 19040, 150634388.79998675),\n",
       " ('Network 4', 'Grant 3', '1919', 'Jun', 19040, 103057998.4000127),\n",
       " ('Network 9', 'Grant 4', '1919', 'Feb', 19040, 176119809.60000914),\n",
       " ('Network 1', 'Grant 2', '2020', 'Feb', 19040, 99525316.80001616),\n",
       " ('Network 5', 'Grant 4', '1919', 'Nov', 19040, 168288276.80002347),\n",
       " ('Network 6', 'Grant 3', '1818', 'Oct', 19040, 155704931.20001355),\n",
       " ('Network 3', 'Grant 7', '1818', 'Oct', 19040, 146617520.0),\n",
       " ('Network 4', 'Grant 6', '1919', 'Oct', 19040, 174651635.2000179),\n",
       " ('Network 2', 'Grant 1', '1919', 'Jun', 19040, 101325167.99999112),\n",
       " ('Network 5', 'Grant 5', '1818', 'Nov', 19040, 140267870.39999866),\n",
       " ('Network 1', 'Grant 8', '2020', 'Jul', 19040, 107218047.99999407),\n",
       " ('Network 6', 'Grant 9', '1919', 'Jun', 19040, 189121083.19997537),\n",
       " ('Network 6', 'Grant 7', '1919', 'Oct', 19040, 140312424.0000164),\n",
       " ('Network 6', 'Grant 2', '2020', 'Feb', 19040, 182446230.39998978),\n",
       " ('Network 4', 'Grant 7', '1818', 'Oct', 19040, 163997231.99998423),\n",
       " ('Network 8', 'Grant 5', '2020', 'Apr', 19040, 167206995.20001644),\n",
       " ('Network 5', 'Grant 7', '1919', 'Jul', 19040, 143649184.0000167),\n",
       " ('Network 4', 'Grant 8', '1818', 'Oct', 19040, 167765057.59998852),\n",
       " ('Network 2', 'Grant 8', '1919', 'Sep', 19040, 166101723.19997668),\n",
       " ('Network 7', 'Grant 5', '1919', 'Oct', 19040, 95632017.6000104),\n",
       " ('Network 6', 'Grant 9', '1919', 'Oct', 19040, 96183415.99998909),\n",
       " ('Network 1', 'Grant 9', '1818', 'Nov', 19040, 146387326.39998052),\n",
       " ('Network 8', 'Grant 5', '1919', 'Feb', 19040, 174800337.59998715),\n",
       " ('Network 1', 'Grant 4', '2020', 'Apr', 19040, 139047025.6000088),\n",
       " ('Network 2', 'Grant 8', '1919', 'Jul', 19040, 168681071.99998307),\n",
       " ('Network 8', 'Grant 6', '1919', 'Jan', 19040, 153937638.4000141),\n",
       " ('Network 2', 'Grant 6', '2020', 'Jun', 19040, 112649398.40001306),\n",
       " ('Network 3', 'Grant 8', '1919', 'Mar', 19040, 167317808.00001657),\n",
       " ('Network 9', 'Grant 2', '2020', 'Jul', 19040, 130288435.20000659),\n",
       " ('Network 9', 'Grant 8', '1919', 'Jul', 19040, 168976953.60002598),\n",
       " ('Network 2', 'Grant 9', '1919', 'Jul', 19040, 170610775.9999815),\n",
       " ('Network 8', 'Grant 6', '1818', 'Jul', 19040, 145586504.0000168),\n",
       " ('Network 8', 'Grant 1', '2020', 'Mar', 19040, 108722398.40001294),\n",
       " ('Network 9', 'Grant 8', '1919', 'Jan', 19040, 101368960.0),\n",
       " ('Network 6', 'Grant 1', '1919', 'Sep', 19040, 97170068.79999194),\n",
       " ('Network 7', 'Grant 5', '1818', 'Sep', 19040, 98706215.99998865),\n",
       " ('Network 3', 'Grant 3', '1919', 'Mar', 19040, 182733353.60002914),\n",
       " ('Network 7', 'Grant 3', '1919', 'Jan', 19040, 179046828.79998526),\n",
       " ('Network 8', 'Grant 4', '1919', 'Aug', 19040, 119879267.19999507),\n",
       " ('Network 4', 'Grant 2', '1919', 'Nov', 19040, 157114081.5999858),\n",
       " ('Network 8', 'Grant 5', '1919', 'Apr', 19040, 105149542.39999127),\n",
       " ('Network 3', 'Grant 8', '1919', 'May', 19040, 103497060.7999945),\n",
       " ('Network 2', 'Grant 5', '2020', 'Feb', 19040, 135827361.59998626),\n",
       " ('Network 3', 'Grant 2', '2020', 'Jan', 19040, 187957168.00002098),\n",
       " ('Network 3', 'Grant 2', '1919', 'Mar', 19040, 119919251.20001084),\n",
       " ('Network 6', 'Grant 1', '1818', 'Nov', 19040, 177857971.2000147),\n",
       " ('Network 6', 'Grant 6', '1919', 'Sep', 19040, 97019843.1999843),\n",
       " ('Network 2', 'Grant 4', '1818', 'Sep', 19040, 143268764.79998937),\n",
       " ('Network 8', 'Grant 2', '1919', 'Jul', 19040, 178642419.19997692),\n",
       " ('Network 1', 'Grant 5', '1919', 'Mar', 19040, 148302940.80001503),\n",
       " ('Network 2', 'Grant 6', '1818', 'Dec', 19040, 183456683.19997567),\n",
       " ('Network 6', 'Grant 7', '1919', 'Nov', 19040, 123174520.0),\n",
       " ('Network 8', 'Grant 4', '1919', 'Jun', 19040, 120659145.6000084),\n",
       " ('Network 7', 'Grant 8', '2020', 'Feb', 19040, 151479574.399991),\n",
       " ('Network 7', 'Grant 3', '1818', 'Dec', 19040, 100072335.9999884),\n",
       " ('Network 5', 'Grant 2', '1919', 'Dec', 19040, 151853139.19998387),\n",
       " ('Network 3', 'Grant 4', '2020', 'Jan', 19040, 109907828.79999024),\n",
       " ('Network 4', 'Grant 8', '1919', 'Aug', 19040, 184482748.79998502),\n",
       " ('Network 3', 'Grant 4', '2020', 'Mar', 19040, 114973801.59998684),\n",
       " ('Network 9', 'Grant 1', '1919', 'Oct', 19039, 99502002.57999161)]"
      ]
     },
     "execution_count": 89,
     "metadata": {},
     "output_type": "execute_result"
    }
   ],
   "source": [
    "csv = sparkContext.textFile(bigData)\n",
    "#  transform RDD using map reduce\n",
    "rdd = loan.rddMapReducer(csv)\n",
    "rdd.collect()"
   ]
  }
 ],
 "metadata": {
  "kernelspec": {
   "display_name": "Python 3",
   "language": "python",
   "name": "python3"
  },
  "language_info": {
   "codemirror_mode": {
    "name": "ipython",
    "version": 3
   },
   "file_extension": ".py",
   "mimetype": "text/x-python",
   "name": "python",
   "nbconvert_exporter": "python",
   "pygments_lexer": "ipython3",
   "version": "3.7.3"
  },
  "name": "MAP_REDUCER",
  "notebookId": 1886792552438349
 },
 "nbformat": 4,
 "nbformat_minor": 1
}
